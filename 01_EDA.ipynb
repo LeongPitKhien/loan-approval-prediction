{
 "cells": [
  {
   "cell_type": "code",
   "execution_count": 1,
   "metadata": {},
   "outputs": [],
   "source": [
    "import pandas as pd\n",
    "import numpy as np\n",
    "\n",
    "import seaborn as sns\n",
    "import matplotlib.pyplot as plt"
   ]
  },
  {
   "cell_type": "code",
   "execution_count": 2,
   "metadata": {},
   "outputs": [
    {
     "name": "stdout",
     "output_type": "stream",
     "text": [
      "(55760, 21)\n",
      "(13940, 20)\n"
     ]
    }
   ],
   "source": [
    "df_train = pd.read_csv('train.csv', parse_dates=['03', '04'])\n",
    "df_test = pd.read_csv('test.csv', parse_dates=['03', '04'])\n",
    "\n",
    "print(df_train.shape)\n",
    "print(df_test.shape)"
   ]
  },
  {
   "cell_type": "code",
   "execution_count": 3,
   "metadata": {},
   "outputs": [],
   "source": [
    "# After loading the dataset, map the column names into a human understandable format\n",
    "column_mapping = {\n",
    "    'id': 'customer_id',\n",
    "    '02': 'gender', \n",
    "    '03': 'dob', \n",
    "    '04': 'lead_creation_date', \n",
    "    '05': 'city_code', \n",
    "    '06': 'area_code', \n",
    "    '07': 'employer_code', \n",
    "    '08': 'employer_category1', \n",
    "    '09': 'employer_category2', \n",
    "    '10': 'monthly_income', \n",
    "    '11': 'bank_code', \n",
    "    '12': 'bank_acc_type',\n",
    "    '13': 'marketing_source', \n",
    "    '14': 'marketing_category1', \n",
    "    '15': 'marketing_category2', \n",
    "    '16': 'current_loan_installment', \n",
    "    '17': 'requested_loan_amount', \n",
    "    '18': 'loan_repayment', \n",
    "    '19': 'interest_rate', \n",
    "    '20': 'requested_loan_installment', \n",
    "    'class': 'loan_approval_status'\n",
    "}\n",
    "\n",
    "df_train = df_train.rename(columns=column_mapping)\n",
    "df_test = df_test.rename(columns=column_mapping)"
   ]
  },
  {
   "cell_type": "code",
   "execution_count": 4,
   "metadata": {},
   "outputs": [
    {
     "data": {
      "text/html": [
       "<div>\n",
       "<style scoped>\n",
       "    .dataframe tbody tr th:only-of-type {\n",
       "        vertical-align: middle;\n",
       "    }\n",
       "\n",
       "    .dataframe tbody tr th {\n",
       "        vertical-align: top;\n",
       "    }\n",
       "\n",
       "    .dataframe thead th {\n",
       "        text-align: right;\n",
       "    }\n",
       "</style>\n",
       "<table border=\"1\" class=\"dataframe\">\n",
       "  <thead>\n",
       "    <tr style=\"text-align: right;\">\n",
       "      <th></th>\n",
       "      <th>customer_id</th>\n",
       "      <th>gender</th>\n",
       "      <th>dob</th>\n",
       "      <th>lead_creation_date</th>\n",
       "      <th>city_code</th>\n",
       "      <th>area_code</th>\n",
       "      <th>employer_code</th>\n",
       "      <th>employer_category1</th>\n",
       "      <th>employer_category2</th>\n",
       "      <th>monthly_income</th>\n",
       "      <th>...</th>\n",
       "      <th>bank_acc_type</th>\n",
       "      <th>marketing_source</th>\n",
       "      <th>marketing_category1</th>\n",
       "      <th>marketing_category2</th>\n",
       "      <th>current_loan_installment</th>\n",
       "      <th>requested_loan_amount</th>\n",
       "      <th>loan_repayment</th>\n",
       "      <th>interest_rate</th>\n",
       "      <th>requested_loan_installment</th>\n",
       "      <th>loan_approval_status</th>\n",
       "    </tr>\n",
       "  </thead>\n",
       "  <tbody>\n",
       "    <tr>\n",
       "      <th>0</th>\n",
       "      <td>-2267620335683202440</td>\n",
       "      <td>0</td>\n",
       "      <td>1992-08-19</td>\n",
       "      <td>2016-07-26</td>\n",
       "      <td>4195062457429987311</td>\n",
       "      <td>1.0</td>\n",
       "      <td>5451653042631526903</td>\n",
       "      <td>2.0</td>\n",
       "      <td>4.0</td>\n",
       "      <td>2415.0</td>\n",
       "      <td>...</td>\n",
       "      <td>2.0</td>\n",
       "      <td>5</td>\n",
       "      <td>3</td>\n",
       "      <td>4</td>\n",
       "      <td>0.00</td>\n",
       "      <td>40950.0</td>\n",
       "      <td>5.0</td>\n",
       "      <td>NaN</td>\n",
       "      <td>0.00</td>\n",
       "      <td>0</td>\n",
       "    </tr>\n",
       "    <tr>\n",
       "      <th>1</th>\n",
       "      <td>6983777496993703358</td>\n",
       "      <td>1</td>\n",
       "      <td>1975-03-17</td>\n",
       "      <td>2016-02-14</td>\n",
       "      <td>-6228735452334436716</td>\n",
       "      <td>3.0</td>\n",
       "      <td>8322794614403</td>\n",
       "      <td>NaN</td>\n",
       "      <td>NaN</td>\n",
       "      <td>2625.0</td>\n",
       "      <td>...</td>\n",
       "      <td>NaN</td>\n",
       "      <td>1</td>\n",
       "      <td>7</td>\n",
       "      <td>0</td>\n",
       "      <td>0.00</td>\n",
       "      <td>NaN</td>\n",
       "      <td>NaN</td>\n",
       "      <td>NaN</td>\n",
       "      <td>0.00</td>\n",
       "      <td>0</td>\n",
       "    </tr>\n",
       "    <tr>\n",
       "      <th>2</th>\n",
       "      <td>-9000875829172115247</td>\n",
       "      <td>1</td>\n",
       "      <td>1983-04-07</td>\n",
       "      <td>2016-07-27</td>\n",
       "      <td>4195062457429987311</td>\n",
       "      <td>1.0</td>\n",
       "      <td>7958738730440449375</td>\n",
       "      <td>2.0</td>\n",
       "      <td>4.0</td>\n",
       "      <td>6772.5</td>\n",
       "      <td>...</td>\n",
       "      <td>1.0</td>\n",
       "      <td>4</td>\n",
       "      <td>2</td>\n",
       "      <td>10</td>\n",
       "      <td>2063.04</td>\n",
       "      <td>21000.0</td>\n",
       "      <td>5.0</td>\n",
       "      <td>15.19</td>\n",
       "      <td>2063.04</td>\n",
       "      <td>0</td>\n",
       "    </tr>\n",
       "    <tr>\n",
       "      <th>3</th>\n",
       "      <td>4577133526371079450</td>\n",
       "      <td>0</td>\n",
       "      <td>1975-01-23</td>\n",
       "      <td>2016-08-23</td>\n",
       "      <td>630300624900511972</td>\n",
       "      <td>1.0</td>\n",
       "      <td>-5322077886952523742</td>\n",
       "      <td>1.0</td>\n",
       "      <td>3.0</td>\n",
       "      <td>7980.0</td>\n",
       "      <td>...</td>\n",
       "      <td>1.0</td>\n",
       "      <td>4</td>\n",
       "      <td>2</td>\n",
       "      <td>10</td>\n",
       "      <td>1575.00</td>\n",
       "      <td>NaN</td>\n",
       "      <td>NaN</td>\n",
       "      <td>NaN</td>\n",
       "      <td>1575.00</td>\n",
       "      <td>0</td>\n",
       "    </tr>\n",
       "    <tr>\n",
       "      <th>4</th>\n",
       "      <td>5683986052858780477</td>\n",
       "      <td>0</td>\n",
       "      <td>1994-06-27</td>\n",
       "      <td>2016-07-21</td>\n",
       "      <td>4195062457429987311</td>\n",
       "      <td>1.0</td>\n",
       "      <td>-974246632625402816</td>\n",
       "      <td>2.0</td>\n",
       "      <td>4.0</td>\n",
       "      <td>945.0</td>\n",
       "      <td>...</td>\n",
       "      <td>1.0</td>\n",
       "      <td>4</td>\n",
       "      <td>3</td>\n",
       "      <td>0</td>\n",
       "      <td>0.00</td>\n",
       "      <td>NaN</td>\n",
       "      <td>NaN</td>\n",
       "      <td>NaN</td>\n",
       "      <td>0.00</td>\n",
       "      <td>0</td>\n",
       "    </tr>\n",
       "  </tbody>\n",
       "</table>\n",
       "<p>5 rows × 21 columns</p>\n",
       "</div>"
      ],
      "text/plain": [
       "           customer_id  gender        dob lead_creation_date  \\\n",
       "0 -2267620335683202440       0 1992-08-19         2016-07-26   \n",
       "1  6983777496993703358       1 1975-03-17         2016-02-14   \n",
       "2 -9000875829172115247       1 1983-04-07         2016-07-27   \n",
       "3  4577133526371079450       0 1975-01-23         2016-08-23   \n",
       "4  5683986052858780477       0 1994-06-27         2016-07-21   \n",
       "\n",
       "             city_code  area_code        employer_code  employer_category1  \\\n",
       "0  4195062457429987311        1.0  5451653042631526903                 2.0   \n",
       "1 -6228735452334436716        3.0        8322794614403                 NaN   \n",
       "2  4195062457429987311        1.0  7958738730440449375                 2.0   \n",
       "3   630300624900511972        1.0 -5322077886952523742                 1.0   \n",
       "4  4195062457429987311        1.0  -974246632625402816                 2.0   \n",
       "\n",
       "   employer_category2  monthly_income  ...  bank_acc_type  marketing_source  \\\n",
       "0                 4.0          2415.0  ...            2.0                 5   \n",
       "1                 NaN          2625.0  ...            NaN                 1   \n",
       "2                 4.0          6772.5  ...            1.0                 4   \n",
       "3                 3.0          7980.0  ...            1.0                 4   \n",
       "4                 4.0           945.0  ...            1.0                 4   \n",
       "\n",
       "   marketing_category1  marketing_category2  current_loan_installment  \\\n",
       "0                    3                    4                      0.00   \n",
       "1                    7                    0                      0.00   \n",
       "2                    2                   10                   2063.04   \n",
       "3                    2                   10                   1575.00   \n",
       "4                    3                    0                      0.00   \n",
       "\n",
       "   requested_loan_amount  loan_repayment  interest_rate  \\\n",
       "0                40950.0             5.0            NaN   \n",
       "1                    NaN             NaN            NaN   \n",
       "2                21000.0             5.0          15.19   \n",
       "3                    NaN             NaN            NaN   \n",
       "4                    NaN             NaN            NaN   \n",
       "\n",
       "   requested_loan_installment  loan_approval_status  \n",
       "0                        0.00                     0  \n",
       "1                        0.00                     0  \n",
       "2                     2063.04                     0  \n",
       "3                     1575.00                     0  \n",
       "4                        0.00                     0  \n",
       "\n",
       "[5 rows x 21 columns]"
      ]
     },
     "execution_count": 4,
     "metadata": {},
     "output_type": "execute_result"
    }
   ],
   "source": [
    "df_train.head()"
   ]
  },
  {
   "cell_type": "code",
   "execution_count": 5,
   "metadata": {},
   "outputs": [
    {
     "data": {
      "text/html": [
       "<div>\n",
       "<style scoped>\n",
       "    .dataframe tbody tr th:only-of-type {\n",
       "        vertical-align: middle;\n",
       "    }\n",
       "\n",
       "    .dataframe tbody tr th {\n",
       "        vertical-align: top;\n",
       "    }\n",
       "\n",
       "    .dataframe thead th {\n",
       "        text-align: right;\n",
       "    }\n",
       "</style>\n",
       "<table border=\"1\" class=\"dataframe\">\n",
       "  <thead>\n",
       "    <tr style=\"text-align: right;\">\n",
       "      <th></th>\n",
       "      <th>customer_id</th>\n",
       "      <th>gender</th>\n",
       "      <th>dob</th>\n",
       "      <th>lead_creation_date</th>\n",
       "      <th>city_code</th>\n",
       "      <th>area_code</th>\n",
       "      <th>employer_code</th>\n",
       "      <th>employer_category1</th>\n",
       "      <th>employer_category2</th>\n",
       "      <th>monthly_income</th>\n",
       "      <th>bank_code</th>\n",
       "      <th>bank_acc_type</th>\n",
       "      <th>marketing_source</th>\n",
       "      <th>marketing_category1</th>\n",
       "      <th>marketing_category2</th>\n",
       "      <th>current_loan_installment</th>\n",
       "      <th>requested_loan_amount</th>\n",
       "      <th>loan_repayment</th>\n",
       "      <th>interest_rate</th>\n",
       "      <th>requested_loan_installment</th>\n",
       "    </tr>\n",
       "  </thead>\n",
       "  <tbody>\n",
       "    <tr>\n",
       "      <th>0</th>\n",
       "      <td>4994603093964685097</td>\n",
       "      <td>1</td>\n",
       "      <td>1976-05-28</td>\n",
       "      <td>2016-08-27</td>\n",
       "      <td>5969016085647965848</td>\n",
       "      <td>3.0</td>\n",
       "      <td>-1583851805195383176</td>\n",
       "      <td>1.0</td>\n",
       "      <td>4.0</td>\n",
       "      <td>1155.0</td>\n",
       "      <td>-4438975989796485538</td>\n",
       "      <td>2.0</td>\n",
       "      <td>4</td>\n",
       "      <td>2</td>\n",
       "      <td>2</td>\n",
       "      <td>176.925</td>\n",
       "      <td>10500.0</td>\n",
       "      <td>4.0</td>\n",
       "      <td>34.79</td>\n",
       "      <td>176.925</td>\n",
       "    </tr>\n",
       "    <tr>\n",
       "      <th>1</th>\n",
       "      <td>6719898245964184851</td>\n",
       "      <td>1</td>\n",
       "      <td>1986-05-22</td>\n",
       "      <td>2016-06-12</td>\n",
       "      <td>3466152762937442713</td>\n",
       "      <td>1.0</td>\n",
       "      <td>3291646035407655386</td>\n",
       "      <td>2.0</td>\n",
       "      <td>4.0</td>\n",
       "      <td>3150.0</td>\n",
       "      <td>-5682066992016760665</td>\n",
       "      <td>1.0</td>\n",
       "      <td>1</td>\n",
       "      <td>2</td>\n",
       "      <td>10</td>\n",
       "      <td>1155.000</td>\n",
       "      <td>34650.0</td>\n",
       "      <td>4.0</td>\n",
       "      <td>NaN</td>\n",
       "      <td>1155.000</td>\n",
       "    </tr>\n",
       "    <tr>\n",
       "      <th>2</th>\n",
       "      <td>1194292741480147233</td>\n",
       "      <td>1</td>\n",
       "      <td>1992-09-24</td>\n",
       "      <td>2016-10-13</td>\n",
       "      <td>-5413728021433296369</td>\n",
       "      <td>1.0</td>\n",
       "      <td>-5282084624191443479</td>\n",
       "      <td>1.0</td>\n",
       "      <td>4.0</td>\n",
       "      <td>2310.0</td>\n",
       "      <td>4934588897315644940</td>\n",
       "      <td>1.0</td>\n",
       "      <td>4</td>\n",
       "      <td>3</td>\n",
       "      <td>2</td>\n",
       "      <td>0.000</td>\n",
       "      <td>33600.0</td>\n",
       "      <td>5.0</td>\n",
       "      <td>19.60</td>\n",
       "      <td>0.000</td>\n",
       "    </tr>\n",
       "    <tr>\n",
       "      <th>3</th>\n",
       "      <td>3961870163330977259</td>\n",
       "      <td>0</td>\n",
       "      <td>1994-02-05</td>\n",
       "      <td>2016-03-12</td>\n",
       "      <td>-5413728021433296369</td>\n",
       "      <td>1.0</td>\n",
       "      <td>768741222651021646</td>\n",
       "      <td>2.0</td>\n",
       "      <td>4.0</td>\n",
       "      <td>1470.0</td>\n",
       "      <td>-4438975989796485538</td>\n",
       "      <td>2.0</td>\n",
       "      <td>4</td>\n",
       "      <td>3</td>\n",
       "      <td>0</td>\n",
       "      <td>0.000</td>\n",
       "      <td>NaN</td>\n",
       "      <td>NaN</td>\n",
       "      <td>NaN</td>\n",
       "      <td>0.000</td>\n",
       "    </tr>\n",
       "    <tr>\n",
       "      <th>4</th>\n",
       "      <td>-275724253865532087</td>\n",
       "      <td>0</td>\n",
       "      <td>1992-08-22</td>\n",
       "      <td>2016-09-23</td>\n",
       "      <td>630300624900511972</td>\n",
       "      <td>1.0</td>\n",
       "      <td>-2992289926877962833</td>\n",
       "      <td>2.0</td>\n",
       "      <td>4.0</td>\n",
       "      <td>2415.0</td>\n",
       "      <td>-4438975989796485538</td>\n",
       "      <td>2.0</td>\n",
       "      <td>1</td>\n",
       "      <td>7</td>\n",
       "      <td>4</td>\n",
       "      <td>472.500</td>\n",
       "      <td>NaN</td>\n",
       "      <td>NaN</td>\n",
       "      <td>NaN</td>\n",
       "      <td>472.500</td>\n",
       "    </tr>\n",
       "  </tbody>\n",
       "</table>\n",
       "</div>"
      ],
      "text/plain": [
       "           customer_id  gender        dob lead_creation_date  \\\n",
       "0  4994603093964685097       1 1976-05-28         2016-08-27   \n",
       "1  6719898245964184851       1 1986-05-22         2016-06-12   \n",
       "2  1194292741480147233       1 1992-09-24         2016-10-13   \n",
       "3  3961870163330977259       0 1994-02-05         2016-03-12   \n",
       "4  -275724253865532087       0 1992-08-22         2016-09-23   \n",
       "\n",
       "             city_code  area_code        employer_code  employer_category1  \\\n",
       "0  5969016085647965848        3.0 -1583851805195383176                 1.0   \n",
       "1  3466152762937442713        1.0  3291646035407655386                 2.0   \n",
       "2 -5413728021433296369        1.0 -5282084624191443479                 1.0   \n",
       "3 -5413728021433296369        1.0   768741222651021646                 2.0   \n",
       "4   630300624900511972        1.0 -2992289926877962833                 2.0   \n",
       "\n",
       "   employer_category2  monthly_income            bank_code  bank_acc_type  \\\n",
       "0                 4.0          1155.0 -4438975989796485538            2.0   \n",
       "1                 4.0          3150.0 -5682066992016760665            1.0   \n",
       "2                 4.0          2310.0  4934588897315644940            1.0   \n",
       "3                 4.0          1470.0 -4438975989796485538            2.0   \n",
       "4                 4.0          2415.0 -4438975989796485538            2.0   \n",
       "\n",
       "   marketing_source  marketing_category1  marketing_category2  \\\n",
       "0                 4                    2                    2   \n",
       "1                 1                    2                   10   \n",
       "2                 4                    3                    2   \n",
       "3                 4                    3                    0   \n",
       "4                 1                    7                    4   \n",
       "\n",
       "   current_loan_installment  requested_loan_amount  loan_repayment  \\\n",
       "0                   176.925                10500.0             4.0   \n",
       "1                  1155.000                34650.0             4.0   \n",
       "2                     0.000                33600.0             5.0   \n",
       "3                     0.000                    NaN             NaN   \n",
       "4                   472.500                    NaN             NaN   \n",
       "\n",
       "   interest_rate  requested_loan_installment  \n",
       "0          34.79                     176.925  \n",
       "1            NaN                    1155.000  \n",
       "2          19.60                       0.000  \n",
       "3            NaN                       0.000  \n",
       "4            NaN                     472.500  "
      ]
     },
     "execution_count": 5,
     "metadata": {},
     "output_type": "execute_result"
    }
   ],
   "source": [
    "df_test.head()"
   ]
  },
  {
   "cell_type": "code",
   "execution_count": 6,
   "metadata": {},
   "outputs": [],
   "source": [
    "# Drop the 'customer_id' column in both train and test datasets\n",
    "df_train = df_train.drop(['customer_id'],axis=1)\n",
    "df_test = df_test.drop(['customer_id'],axis=1)"
   ]
  },
  {
   "cell_type": "code",
   "execution_count": 7,
   "metadata": {},
   "outputs": [
    {
     "data": {
      "text/plain": [
       "gender                            0\n",
       "dob                               8\n",
       "lead_creation_date                0\n",
       "city_code                         0\n",
       "area_code                       658\n",
       "employer_code                     0\n",
       "employer_category1             3193\n",
       "employer_category2             3424\n",
       "monthly_income                    0\n",
       "bank_code                         0\n",
       "bank_acc_type                  7471\n",
       "marketing_source                  0\n",
       "marketing_category1               0\n",
       "marketing_category2               0\n",
       "current_loan_installment         41\n",
       "requested_loan_amount         22131\n",
       "loan_repayment                22131\n",
       "interest_rate                 37941\n",
       "requested_loan_installment       41\n",
       "loan_approval_status              0\n",
       "dtype: int64"
      ]
     },
     "execution_count": 7,
     "metadata": {},
     "output_type": "execute_result"
    }
   ],
   "source": [
    "# Check the number of missing values in each column in both train and test datasets\n",
    "df_train.isnull().sum()"
   ]
  },
  {
   "cell_type": "code",
   "execution_count": 8,
   "metadata": {},
   "outputs": [
    {
     "data": {
      "text/plain": [
       "gender                           0\n",
       "dob                              7\n",
       "lead_creation_date               0\n",
       "city_code                        0\n",
       "area_code                      156\n",
       "employer_code                    0\n",
       "employer_category1             825\n",
       "employer_category2             874\n",
       "monthly_income                   0\n",
       "bank_code                        0\n",
       "bank_acc_type                 1917\n",
       "marketing_source                 0\n",
       "marketing_category1              0\n",
       "marketing_category2              0\n",
       "current_loan_installment        10\n",
       "requested_loan_amount         5574\n",
       "loan_repayment                5574\n",
       "interest_rate                 9488\n",
       "requested_loan_installment      10\n",
       "dtype: int64"
      ]
     },
     "execution_count": 8,
     "metadata": {},
     "output_type": "execute_result"
    }
   ],
   "source": [
    "df_test.isnull().sum()"
   ]
  },
  {
   "cell_type": "markdown",
   "metadata": {},
   "source": [
    "##### We can notice that the columns that have missing values in the train dataset are the same with the one in the test dataset.\n",
    "##### There is a total of 10 columns with missing values.\n",
    "##### Columns that have missing values: 'dob', 'area_code', 'employer_category1', 'employer_category2', 'bank_acc_type', 'current_loan_installment', 'requested_loan_amount', 'loan_repayment', 'interest_rate', 'requested_loan_installment'\n",
    "##### Surprisingly, the number of missing values in 'requested_loan_amount' and 'loan_repayment' columns are the same in both train and test dataset.\n",
    "\n",
    "##### Therefore, data imputation is required."
   ]
  },
  {
   "cell_type": "code",
   "execution_count": 9,
   "metadata": {},
   "outputs": [],
   "source": [
    "# Divide the variables into numerical, categorical & target variable\n",
    "nums = [\n",
    "    'monthly_income',\n",
    "    'current_loan_installment',\n",
    "    'requested_loan_amount',\n",
    "    'loan_repayment',\n",
    "    'interest_rate',\n",
    "    'requested_loan_installment'\n",
    "]\n",
    "\n",
    "cats = [\n",
    "    'gender',\n",
    "    'city_code',\n",
    "    'area_code',\n",
    "    'employer_code',\n",
    "    'employer_category1',\n",
    "    'employer_category2',\n",
    "    'bank_code',\n",
    "    'bank_acc_type',\n",
    "    'marketing_source',\n",
    "    'marketing_category1',\n",
    "    'marketing_category2'\n",
    "]\n",
    "\n",
    "y = 'loan_approval_status'"
   ]
  },
  {
   "cell_type": "code",
   "execution_count": 10,
   "metadata": {},
   "outputs": [
    {
     "data": {
      "text/html": [
       "<div>\n",
       "<style scoped>\n",
       "    .dataframe tbody tr th:only-of-type {\n",
       "        vertical-align: middle;\n",
       "    }\n",
       "\n",
       "    .dataframe tbody tr th {\n",
       "        vertical-align: top;\n",
       "    }\n",
       "\n",
       "    .dataframe thead th {\n",
       "        text-align: right;\n",
       "    }\n",
       "</style>\n",
       "<table border=\"1\" class=\"dataframe\">\n",
       "  <thead>\n",
       "    <tr style=\"text-align: right;\">\n",
       "      <th></th>\n",
       "      <th>monthly_income</th>\n",
       "      <th>current_loan_installment</th>\n",
       "      <th>requested_loan_amount</th>\n",
       "      <th>loan_repayment</th>\n",
       "      <th>interest_rate</th>\n",
       "      <th>requested_loan_installment</th>\n",
       "    </tr>\n",
       "  </thead>\n",
       "  <tbody>\n",
       "    <tr>\n",
       "      <th>count</th>\n",
       "      <td>5.576000e+04</td>\n",
       "      <td>55719.000000</td>\n",
       "      <td>33629.000000</td>\n",
       "      <td>33629.000000</td>\n",
       "      <td>17819.000000</td>\n",
       "      <td>55719.000000</td>\n",
       "    </tr>\n",
       "    <tr>\n",
       "      <th>mean</th>\n",
       "      <td>6.211983e+03</td>\n",
       "      <td>379.255597</td>\n",
       "      <td>41437.704065</td>\n",
       "      <td>3.893158</td>\n",
       "      <td>18.851619</td>\n",
       "      <td>379.255597</td>\n",
       "    </tr>\n",
       "    <tr>\n",
       "      <th>std</th>\n",
       "      <td>2.034534e+05</td>\n",
       "      <td>2638.527522</td>\n",
       "      <td>32322.161373</td>\n",
       "      <td>1.165489</td>\n",
       "      <td>5.746168</td>\n",
       "      <td>2638.527522</td>\n",
       "    </tr>\n",
       "    <tr>\n",
       "      <th>min</th>\n",
       "      <td>0.000000e+00</td>\n",
       "      <td>0.000000</td>\n",
       "      <td>5250.000000</td>\n",
       "      <td>1.000000</td>\n",
       "      <td>11.750200</td>\n",
       "      <td>0.000000</td>\n",
       "    </tr>\n",
       "    <tr>\n",
       "      <th>25%</th>\n",
       "      <td>1.732500e+03</td>\n",
       "      <td>0.000000</td>\n",
       "      <td>21000.000000</td>\n",
       "      <td>3.000000</td>\n",
       "      <td>14.945000</td>\n",
       "      <td>0.000000</td>\n",
       "    </tr>\n",
       "    <tr>\n",
       "      <th>50%</th>\n",
       "      <td>2.625000e+03</td>\n",
       "      <td>0.000000</td>\n",
       "      <td>31500.000000</td>\n",
       "      <td>4.000000</td>\n",
       "      <td>17.640000</td>\n",
       "      <td>0.000000</td>\n",
       "    </tr>\n",
       "    <tr>\n",
       "      <th>75%</th>\n",
       "      <td>4.200000e+03</td>\n",
       "      <td>367.500000</td>\n",
       "      <td>52500.000000</td>\n",
       "      <td>5.000000</td>\n",
       "      <td>19.600000</td>\n",
       "      <td>367.500000</td>\n",
       "    </tr>\n",
       "    <tr>\n",
       "      <th>max</th>\n",
       "      <td>4.030303e+07</td>\n",
       "      <td>572708.325000</td>\n",
       "      <td>315000.000000</td>\n",
       "      <td>5.000000</td>\n",
       "      <td>36.260000</td>\n",
       "      <td>572708.325000</td>\n",
       "    </tr>\n",
       "  </tbody>\n",
       "</table>\n",
       "</div>"
      ],
      "text/plain": [
       "       monthly_income  current_loan_installment  requested_loan_amount  \\\n",
       "count    5.576000e+04              55719.000000           33629.000000   \n",
       "mean     6.211983e+03                379.255597           41437.704065   \n",
       "std      2.034534e+05               2638.527522           32322.161373   \n",
       "min      0.000000e+00                  0.000000            5250.000000   \n",
       "25%      1.732500e+03                  0.000000           21000.000000   \n",
       "50%      2.625000e+03                  0.000000           31500.000000   \n",
       "75%      4.200000e+03                367.500000           52500.000000   \n",
       "max      4.030303e+07             572708.325000          315000.000000   \n",
       "\n",
       "       loan_repayment  interest_rate  requested_loan_installment  \n",
       "count    33629.000000   17819.000000                55719.000000  \n",
       "mean         3.893158      18.851619                  379.255597  \n",
       "std          1.165489       5.746168                 2638.527522  \n",
       "min          1.000000      11.750200                    0.000000  \n",
       "25%          3.000000      14.945000                    0.000000  \n",
       "50%          4.000000      17.640000                    0.000000  \n",
       "75%          5.000000      19.600000                  367.500000  \n",
       "max          5.000000      36.260000               572708.325000  "
      ]
     },
     "execution_count": 10,
     "metadata": {},
     "output_type": "execute_result"
    }
   ],
   "source": [
    "df_train[nums].describe()"
   ]
  },
  {
   "cell_type": "code",
   "execution_count": 11,
   "metadata": {},
   "outputs": [
    {
     "data": {
      "text/html": [
       "<div>\n",
       "<style scoped>\n",
       "    .dataframe tbody tr th:only-of-type {\n",
       "        vertical-align: middle;\n",
       "    }\n",
       "\n",
       "    .dataframe tbody tr th {\n",
       "        vertical-align: top;\n",
       "    }\n",
       "\n",
       "    .dataframe thead th {\n",
       "        text-align: right;\n",
       "    }\n",
       "</style>\n",
       "<table border=\"1\" class=\"dataframe\">\n",
       "  <thead>\n",
       "    <tr style=\"text-align: right;\">\n",
       "      <th></th>\n",
       "      <th>monthly_income</th>\n",
       "      <th>current_loan_installment</th>\n",
       "      <th>requested_loan_amount</th>\n",
       "      <th>loan_repayment</th>\n",
       "      <th>interest_rate</th>\n",
       "      <th>requested_loan_installment</th>\n",
       "    </tr>\n",
       "  </thead>\n",
       "  <tbody>\n",
       "    <tr>\n",
       "      <th>count</th>\n",
       "      <td>1.394000e+04</td>\n",
       "      <td>13930.000000</td>\n",
       "      <td>8366.000000</td>\n",
       "      <td>8366.000000</td>\n",
       "      <td>4452.000000</td>\n",
       "      <td>13930.000000</td>\n",
       "    </tr>\n",
       "    <tr>\n",
       "      <th>mean</th>\n",
       "      <td>4.670376e+03</td>\n",
       "      <td>377.836394</td>\n",
       "      <td>41229.129811</td>\n",
       "      <td>3.880230</td>\n",
       "      <td>18.742841</td>\n",
       "      <td>377.836394</td>\n",
       "    </tr>\n",
       "    <tr>\n",
       "      <th>std</th>\n",
       "      <td>5.318169e+04</td>\n",
       "      <td>1014.151463</td>\n",
       "      <td>32010.887953</td>\n",
       "      <td>1.175868</td>\n",
       "      <td>5.667389</td>\n",
       "      <td>1014.151463</td>\n",
       "    </tr>\n",
       "    <tr>\n",
       "      <th>min</th>\n",
       "      <td>0.000000e+00</td>\n",
       "      <td>0.000000</td>\n",
       "      <td>5250.000000</td>\n",
       "      <td>1.000000</td>\n",
       "      <td>11.750200</td>\n",
       "      <td>0.000000</td>\n",
       "    </tr>\n",
       "    <tr>\n",
       "      <th>25%</th>\n",
       "      <td>1.743000e+03</td>\n",
       "      <td>0.000000</td>\n",
       "      <td>21000.000000</td>\n",
       "      <td>3.000000</td>\n",
       "      <td>14.945000</td>\n",
       "      <td>0.000000</td>\n",
       "    </tr>\n",
       "    <tr>\n",
       "      <th>50%</th>\n",
       "      <td>2.625000e+03</td>\n",
       "      <td>0.000000</td>\n",
       "      <td>31500.000000</td>\n",
       "      <td>4.000000</td>\n",
       "      <td>17.517500</td>\n",
       "      <td>0.000000</td>\n",
       "    </tr>\n",
       "    <tr>\n",
       "      <th>75%</th>\n",
       "      <td>4.200000e+03</td>\n",
       "      <td>367.500000</td>\n",
       "      <td>52500.000000</td>\n",
       "      <td>5.000000</td>\n",
       "      <td>19.600000</td>\n",
       "      <td>367.500000</td>\n",
       "    </tr>\n",
       "    <tr>\n",
       "      <th>max</th>\n",
       "      <td>5.250000e+06</td>\n",
       "      <td>19425.000000</td>\n",
       "      <td>315000.000000</td>\n",
       "      <td>6.000000</td>\n",
       "      <td>36.260000</td>\n",
       "      <td>19425.000000</td>\n",
       "    </tr>\n",
       "  </tbody>\n",
       "</table>\n",
       "</div>"
      ],
      "text/plain": [
       "       monthly_income  current_loan_installment  requested_loan_amount  \\\n",
       "count    1.394000e+04              13930.000000            8366.000000   \n",
       "mean     4.670376e+03                377.836394           41229.129811   \n",
       "std      5.318169e+04               1014.151463           32010.887953   \n",
       "min      0.000000e+00                  0.000000            5250.000000   \n",
       "25%      1.743000e+03                  0.000000           21000.000000   \n",
       "50%      2.625000e+03                  0.000000           31500.000000   \n",
       "75%      4.200000e+03                367.500000           52500.000000   \n",
       "max      5.250000e+06              19425.000000          315000.000000   \n",
       "\n",
       "       loan_repayment  interest_rate  requested_loan_installment  \n",
       "count     8366.000000    4452.000000                13930.000000  \n",
       "mean         3.880230      18.742841                  377.836394  \n",
       "std          1.175868       5.667389                 1014.151463  \n",
       "min          1.000000      11.750200                    0.000000  \n",
       "25%          3.000000      14.945000                    0.000000  \n",
       "50%          4.000000      17.517500                    0.000000  \n",
       "75%          5.000000      19.600000                  367.500000  \n",
       "max          6.000000      36.260000                19425.000000  "
      ]
     },
     "execution_count": 11,
     "metadata": {},
     "output_type": "execute_result"
    }
   ],
   "source": [
    "df_test[nums].describe()"
   ]
  },
  {
   "cell_type": "markdown",
   "metadata": {},
   "source": [
    "##### The standard deviation of 'monthly_income', 'current_loan_installment', 'requested_loan_amount' and 'requested_loan_installment' columns are extremely high.\n",
    "##### It signifies that there are data points that are far away from the mean. Therefore, extreme values, or in other words, outliers may exist in these columns.\n",
    "\n",
    "##### We can notice that the mean, standard deviation, minimum value and maximum value for both 'current_loan_installment' and 'requested_loan_installment' columns are totally the same.\n",
    "##### So, let's check whether the data in these 2 columns consist are exactly the same. \n"
   ]
  },
  {
   "cell_type": "code",
   "execution_count": 12,
   "metadata": {},
   "outputs": [
    {
     "data": {
      "text/plain": [
       "True"
      ]
     },
     "execution_count": 12,
     "metadata": {},
     "output_type": "execute_result"
    }
   ],
   "source": [
    "df_train['current_loan_installment'].equals(df_train['requested_loan_installment'])"
   ]
  },
  {
   "cell_type": "code",
   "execution_count": 13,
   "metadata": {},
   "outputs": [
    {
     "data": {
      "text/plain": [
       "True"
      ]
     },
     "execution_count": 13,
     "metadata": {},
     "output_type": "execute_result"
    }
   ],
   "source": [
    "df_test['current_loan_installment'].equals(df_test['requested_loan_installment'])"
   ]
  },
  {
   "cell_type": "markdown",
   "metadata": {},
   "source": [
    "##### Since both 'current_loan_installment' and 'requested_loan_installment' columns have the exactly same data, they are redundant.\n",
    "##### Therefore, we can only use one of them as features when training the model."
   ]
  },
  {
   "cell_type": "code",
   "execution_count": 14,
   "metadata": {},
   "outputs": [
    {
     "data": {
      "image/png": "[encoded data removed]",
      "text/plain": [
       "<Figure size 640x480 with 1 Axes>"
      ]
     },
     "metadata": {},
     "output_type": "display_data"
    },
    {
     "data": {
      "image/png": "[encoded data removed]",
      "text/plain": [
       "<Figure size 640x480 with 1 Axes>"
      ]
     },
     "metadata": {},
     "output_type": "display_data"
    },
    {
     "data": {
      "image/png": "[encoded data removed]",
      "text/plain": [
       "<Figure size 640x480 with 1 Axes>"
      ]
     },
     "metadata": {},
     "output_type": "display_data"
    },
    {
     "data": {
      "image/png": "[encoded data removed]",
      "text/plain": [
       "<Figure size 640x480 with 1 Axes>"
      ]
     },
     "metadata": {},
     "output_type": "display_data"
    },
    {
     "data": {
      "image/png": "[encoded data removed]",
      "text/plain": [
       "<Figure size 640x480 with 1 Axes>"
      ]
     },
     "metadata": {},
     "output_type": "display_data"
    },
    {
     "data": {
      "image/png": "[encoded data removed]",
      "text/plain": [
       "<Figure size 640x480 with 1 Axes>"
      ]
     },
     "metadata": {},
     "output_type": "display_data"
    }
   ],
   "source": [
    "# Boxplot - numerical columns\n",
    "for col in nums:\n",
    "    plt.figure()  \n",
    "    sns.boxplot(df_train[col]) \n",
    "    plt.title(col) \n",
    "\n",
    "plt.tight_layout() \n",
    "plt.show()"
   ]
  },
  {
   "cell_type": "markdown",
   "metadata": {},
   "source": [
    "##### From the boxplot, we can see that extreme outliers exist in 'monthly_income', 'current_loan_installment', 'requested_loan_installment' columns which squeezes the boxplot."
   ]
  },
  {
   "cell_type": "code",
   "execution_count": 15,
   "metadata": {},
   "outputs": [
    {
     "data": {
      "image/png": "[encoded data removed]",
      "text/plain": [
       "<Figure size 640x480 with 1 Axes>"
      ]
     },
     "metadata": {},
     "output_type": "display_data"
    },
    {
     "data": {
      "image/png": "[encoded data removed]",
      "text/plain": [
       "<Figure size 640x480 with 1 Axes>"
      ]
     },
     "metadata": {},
     "output_type": "display_data"
    },
    {
     "data": {
      "image/png": "[encoded data removed]",
      "text/plain": [
       "<Figure size 640x480 with 1 Axes>"
      ]
     },
     "metadata": {},
     "output_type": "display_data"
    },
    {
     "data": {
      "image/png": "[encoded data removed]",
      "text/plain": [
       "<Figure size 640x480 with 1 Axes>"
      ]
     },
     "metadata": {},
     "output_type": "display_data"
    },
    {
     "data": {
      "image/png": "[encoded data removed]",
      "text/plain": [
       "<Figure size 640x480 with 1 Axes>"
      ]
     },
     "metadata": {},
     "output_type": "display_data"
    },
    {
     "data": {
      "image/png": "[encoded data removed]",
      "text/plain": [
       "<Figure size 640x480 with 1 Axes>"
      ]
     },
     "metadata": {},
     "output_type": "display_data"
    },
    {
     "data": {
      "image/png": "[encoded data removed]",
      "text/plain": [
       "<Figure size 640x480 with 1 Axes>"
      ]
     },
     "metadata": {},
     "output_type": "display_data"
    },
    {
     "data": {
      "image/png": "[encoded data removed]",
      "text/plain": [
       "<Figure size 640x480 with 1 Axes>"
      ]
     },
     "metadata": {},
     "output_type": "display_data"
    },
    {
     "data": {
      "image/png": "[encoded data removed]",
      "text/plain": [
       "<Figure size 640x480 with 1 Axes>"
      ]
     },
     "metadata": {},
     "output_type": "display_data"
    },
    {
     "data": {
      "image/png": "[encoded data removed]",
      "text/plain": [
       "<Figure size 640x480 with 1 Axes>"
      ]
     },
     "metadata": {},
     "output_type": "display_data"
    },
    {
     "data": {
      "image/png": "[encoded data removed]",
      "text/plain": [
       "<Figure size 640x480 with 1 Axes>"
      ]
     },
     "metadata": {},
     "output_type": "display_data"
    }
   ],
   "source": [
    "for col in cats:\n",
    "    fig, ax = plt.subplots()\n",
    "    ax.bar(df_train[col].value_counts().index, df_train[col].value_counts())\n",
    "    ax.set_title(col) "
   ]
  },
  {
   "cell_type": "code",
   "execution_count": 16,
   "metadata": {},
   "outputs": [
    {
     "data": {
      "text/plain": [
       "<Axes: >"
      ]
     },
     "execution_count": 16,
     "metadata": {},
     "output_type": "execute_result"
    },
    {
     "data": {
      "image/png": "[encoded data removed]",
      "text/plain": [
       "<Figure size 640x480 with 1 Axes>"
      ]
     },
     "metadata": {},
     "output_type": "display_data"
    }
   ],
   "source": [
    "# Create 'age_days' column using the 'dob' & 'lead_creation_date' column to see the age distribution of the customers\n",
    "df_train['age_days'] = (df_train['lead_creation_date'] - df_train['dob']) / np.timedelta64(1, 'D')\n",
    "df_test['age_days'] = (df_test['lead_creation_date'] - df_test['dob']) / np.timedelta64(1, 'D')\n",
    "\n",
    "df_train['age_days'].hist(bins=30)"
   ]
  },
  {
   "cell_type": "code",
   "execution_count": 17,
   "metadata": {},
   "outputs": [
    {
     "data": {
      "text/plain": [
       "<Axes: >"
      ]
     },
     "execution_count": 17,
     "metadata": {},
     "output_type": "execute_result"
    },
    {
     "data": {
      "image/png": "[encoded data removed]",
      "text/plain": [
       "<Figure size 640x480 with 1 Axes>"
      ]
     },
     "metadata": {},
     "output_type": "display_data"
    }
   ],
   "source": [
    "df_test['age_days'].hist(bins=30)"
   ]
  },
  {
   "cell_type": "markdown",
   "metadata": {},
   "source": [
    "##### Since there is negative value in 'age_days' for both train and test datasets, it is definitely impossible. \n",
    "##### Let's see the proportion of negative value in 'age_days' in the dataset."
   ]
  },
  {
   "cell_type": "code",
   "execution_count": 18,
   "metadata": {},
   "outputs": [
    {
     "data": {
      "text/plain": [
       "TF\n",
       "0    51598\n",
       "1     4162\n",
       "Name: count, dtype: int64"
      ]
     },
     "execution_count": 18,
     "metadata": {},
     "output_type": "execute_result"
    }
   ],
   "source": [
    "df_train['TF'] = np.where(df_train['age_days'] < 0, 1, 0)\n",
    "df_train['TF'].value_counts()"
   ]
  },
  {
   "cell_type": "code",
   "execution_count": 19,
   "metadata": {},
   "outputs": [
    {
     "data": {
      "text/plain": [
       "TF\n",
       "0    0.925359\n",
       "1    0.074641\n",
       "Name: proportion, dtype: float64"
      ]
     },
     "execution_count": 19,
     "metadata": {},
     "output_type": "execute_result"
    }
   ],
   "source": [
    "# Check the proportions of the negative value in 'age_days'\n",
    "df_train['TF'].value_counts(normalize=True)"
   ]
  },
  {
   "cell_type": "markdown",
   "metadata": {},
   "source": [
    "##### In train dataset, there are 4162 rows out of 55760 rows having negative values in 'age_days' column, which is 0.0746% of the data (relatively small).\n",
    "##### Therefore, we can remove it from the training dataset."
   ]
  },
  {
   "cell_type": "code",
   "execution_count": 20,
   "metadata": {},
   "outputs": [
    {
     "data": {
      "text/plain": [
       "loan_approval_status\n",
       "0    54916\n",
       "1      844\n",
       "Name: count, dtype: int64"
      ]
     },
     "execution_count": 20,
     "metadata": {},
     "output_type": "execute_result"
    }
   ],
   "source": [
    "# Check the distribution of 0 and 1 in the target variable: loan_approval_status\n",
    "df_train['loan_approval_status'].value_counts()"
   ]
  },
  {
   "cell_type": "code",
   "execution_count": 21,
   "metadata": {},
   "outputs": [
    {
     "data": {
      "text/plain": [
       "loan_approval_status\n",
       "0    0.984864\n",
       "1    0.015136\n",
       "Name: proportion, dtype: float64"
      ]
     },
     "execution_count": 21,
     "metadata": {},
     "output_type": "execute_result"
    }
   ],
   "source": [
    "# Check the proportions of the target variable\n",
    "df_train['loan_approval_status'].value_counts(normalize=True)"
   ]
  },
  {
   "cell_type": "markdown",
   "metadata": {},
   "source": [
    "##### There are only 844 customers (1.5%) have their loan approved in the train dataset. \n",
    "##### It indicates that the proportion of the target variable: loan_approval_status that we are interested to predict as 1 is extremely small as compared to 0.\n",
    "##### This is an extremely imbalanced classification problem."
   ]
  },
  {
   "cell_type": "code",
   "execution_count": 22,
   "metadata": {},
   "outputs": [],
   "source": [
    "# Separate features and the target variable\n",
    "df_train_x = df_train.drop(['dob', 'lead_creation_date', 'age_days', 'TF', 'loan_approval_status'], axis=1)\n",
    "df_train_y = df_train[['loan_approval_status']]\n",
    "\n",
    "# Fill missing values in all columns with -9999\n",
    "df_train_x_filled = df_train_x.fillna(-9999)"
   ]
  },
  {
   "cell_type": "markdown",
   "metadata": {},
   "source": [
    "##### Let's check the correlation of the variables against each other.\n",
    "##### Pandas corr method is used and Spearman correlation is calculated because we are interested in understanding the non-linear relationships."
   ]
  },
  {
   "cell_type": "code",
   "execution_count": 23,
   "metadata": {},
   "outputs": [],
   "source": [
    "df_train_corr = pd.concat([df_train_x, df_train_y], axis=1)\n",
    "\n",
    "# Calculate correlations between variables\n",
    "corr = df_train_corr.corr(method='spearman')"
   ]
  },
  {
   "cell_type": "code",
   "execution_count": 24,
   "metadata": {},
   "outputs": [
    {
     "data": {
      "application/vnd.plotly.v1+json": {
       "config": {
        "plotlyServerURL": "https://plot.ly"
       },
       "data": [
        {
         "coloraxis": "coloraxis",
         "hovertemplate": "x: %{x}<br>y: %{y}<br>color: %{z}<extra></extra>",
         "name": "0",
         "texttemplate": "%{z:.3f}",
         "type": "heatmap",
         "x": [
          "gender",
          "city_code",
          "area_code",
          "employer_code",
          "employer_category1",
          "employer_category2",
          "monthly_income",
          "bank_code",
          "bank_acc_type",
          "marketing_source",
          "marketing_category1",
          "marketing_category2",
          "current_loan_installment",
          "requested_loan_amount",
          "loan_repayment",
          "interest_rate",
          "requested_loan_installment",
          "loan_approval_status"
         ],
         "xaxis": "x",
         "y": [
          "gender",
          "city_code",
          "area_code",
          "employer_code",
          "employer_category1",
          "employer_category2",
          "monthly_income",
          "bank_code",
          "bank_acc_type",
          "marketing_source",
          "marketing_category1",
          "marketing_category2",
          "current_loan_installment",
          "requested_loan_amount",
          "loan_repayment",
          "interest_rate",
          "requested_loan_installment",
          "loan_approval_status"
         ],
         "yaxis": "y",
         "z": [
          [
           1,
           0.04614594328606689,
           -0.007829086503022251,
           -0.0035996595289897204,
           0.05743803198444097,
           -0.042094166699463906,
           0.3317550931156176,
           -0.02319266605383057,
           -0.02868667875792154,
           -0.028864206320274033,
           0.05702611489894681,
           0.4950311439398118,
           -0.1543764436717924,
           0.007175915431429529,
           0.043453554585898356,
           -0.01035821504954951,
           -0.1543764436717924,
           0.04407486092959585
          ],
          [
           0.04614594328606689,
           1,
           -0.043579664934461734,
           -0.011824724066744792,
           0.006932878503051629,
           -0.03212175729472914,
           0.06012455411921054,
           -0.03437169536192798,
           -0.0220391492455794,
           0.0035944614740652547,
           0.002277966352988437,
           0.07454183805253106,
           -0.008379907180456857,
           0.016109382534084914,
           -0.01713351237290392,
           -0.012734871520841502,
           -0.008379907180456857,
           0.012164035287196173
          ],
          [
           -0.007829086503022251,
           -0.043579664934461734,
           1,
           -0.009286401115122135,
           -0.10338799529218916,
           0.07050720170781635,
           -0.14233660135292983,
           0.05463201282629333,
           0.2357067726767744,
           0.01706832873396735,
           -0.0206241127399466,
           -0.14452555224985944,
           0.04830391575362586,
           -0.11287300792734704,
           0.02954054449101191,
           0.12444475406872597,
           0.04830391575362586,
           -0.02735347611623772
          ],
          [
           -0.0035996595289897204,
           -0.011824724066744792,
           -0.009286401115122135,
           1,
           0.019706623596973238,
           0.006305956298908642,
           -0.0019393204990245162,
           -0.006016847689117275,
           -0.005393344735598505,
           -0.0006867790334015838,
           0.0015787633734887106,
           -0.0030214164263626477,
           0.0029223659299492484,
           0.010971766944446484,
           0.005575653836698857,
           -0.015020292421747404,
           0.0029223659299492484,
           0.003367872637809995
          ],
          [
           0.05743803198444097,
           0.006932878503051629,
           -0.10338799529218916,
           0.019706623596973238,
           1,
           -0.14288408445808504,
           0.06913597848806224,
           -0.03614102812055045,
           -0.24577908574209623,
           -0.020231155266027135,
           0.019112259974437478,
           0.08887169816407188,
           -0.028627821374912113,
           0.026832342567290987,
           -0.005221255364848063,
           -0.18137987259441546,
           -0.028627821374912113,
           0.040009148009623324
          ],
          [
           -0.042094166699463906,
           -0.03212175729472914,
           0.07050720170781635,
           0.006305956298908642,
           -0.14288408445808504,
           1,
           -0.10916469259431112,
           0.07039697440207347,
           0.1256516924135422,
           0.04988279385394316,
           -0.028199617446720004,
           -0.11418468225183424,
           0.03585846336178756,
           -0.07173248952482641,
           -0.01385626245956281,
           0.24195423878639213,
           0.03585846336178756,
           -0.01934286981565055
          ],
          [
           0.3317550931156176,
           0.06012455411921054,
           -0.14233660135292983,
           -0.0019393204990245162,
           0.06913597848806224,
           -0.10916469259431112,
           1,
           -0.05027816985183283,
           -0.12135145651097727,
           -0.05720970770944204,
           -0.02594582029208548,
           0.6751127911188166,
           0.1710367302643512,
           0.47960098722019173,
           0.020181137474319162,
           -0.6613340685204688,
           0.1710367302643512,
           0.12213362313792892
          ],
          [
           -0.02319266605383057,
           -0.03437169536192798,
           0.05463201282629333,
           -0.006016847689117275,
           -0.03614102812055045,
           0.07039697440207347,
           -0.05027816985183283,
           1,
           0.03924646130942323,
           -0.03909907881648161,
           0.057583625004660924,
           -0.10954373526003877,
           -0.03179292726482332,
           -0.020545648435057042,
           0.0052483949153210065,
           0.052785545294685356,
           -0.03179292726482332,
           -0.023469059090821514
          ],
          [
           -0.02868667875792154,
           -0.0220391492455794,
           0.2357067726767744,
           -0.005393344735598505,
           -0.24577908574209623,
           0.1256516924135422,
           -0.12135145651097727,
           0.03924646130942323,
           1,
           0.05993820451806187,
           0.0024536500785232885,
           -0.12258623606090116,
           -0.039896070555451316,
           0.02428552181992825,
           0.06998886015801391,
           0.1416681929131451,
           -0.039896070555451316,
           -0.04175916198297512
          ],
          [
           -0.028864206320274033,
           0.0035944614740652547,
           0.01706832873396735,
           -0.0006867790334015838,
           -0.020231155266027135,
           0.04988279385394316,
           -0.05720970770944204,
           -0.03909907881648161,
           0.05993820451806187,
           1,
           -0.7523135893821914,
           0.06573269742295762,
           0.05750023155125885,
           0.024956265605920312,
           0.13702949849218424,
           0.08054503874211297,
           0.05750023155125885,
           -0.014547505752310012
          ],
          [
           0.05702611489894681,
           0.002277966352988437,
           -0.0206241127399466,
           0.0015787633734887106,
           0.019112259974437478,
           -0.028199617446720004,
           -0.02594582029208548,
           0.057583625004660924,
           0.0024536500785232885,
           -0.7523135893821914,
           1,
           -0.1489058199671646,
           -0.17904565629254798,
           0.10277015739390354,
           -0.024500979945130792,
           -0.036266272181237444,
           -0.17904565629254798,
           -0.015416288058851185
          ],
          [
           0.4950311439398118,
           0.07454183805253106,
           -0.14452555224985944,
           -0.0030214164263626477,
           0.08887169816407188,
           -0.11418468225183424,
           0.6751127911188166,
           -0.10954373526003877,
           -0.12258623606090116,
           0.06573269742295762,
           -0.1489058199671646,
           1,
           -0.012651818649307811,
           0.2966750579621178,
           -0.008506353372622606,
           -0.6179021505006982,
           -0.012651818649307811,
           0.10403250708557965
          ],
          [
           -0.1543764436717924,
           -0.008379907180456857,
           0.04830391575362586,
           0.0029223659299492484,
           -0.028627821374912113,
           0.03585846336178756,
           0.1710367302643512,
           -0.03179292726482332,
           -0.039896070555451316,
           0.05750023155125885,
           -0.17904565629254798,
           -0.012651818649307811,
           1,
           -0.22468620611869383,
           -0.07332049476742976,
           -0.039278617860856554,
           1,
           0.061273657741243485
          ],
          [
           0.007175915431429529,
           0.016109382534084914,
           -0.11287300792734704,
           0.010971766944446484,
           0.026832342567290987,
           -0.07173248952482641,
           0.47960098722019173,
           -0.020545648435057042,
           0.02428552181992825,
           0.024956265605920312,
           0.10277015739390354,
           0.2966750579621178,
           -0.22468620611869383,
           1,
           0.4924456838029978,
           -0.3569271653076547,
           -0.22468620611869383,
           0.04080467102991391
          ],
          [
           0.043453554585898356,
           -0.01713351237290392,
           0.02954054449101191,
           0.005575653836698857,
           -0.005221255364848063,
           -0.01385626245956281,
           0.020181137474319162,
           0.0052483949153210065,
           0.06998886015801391,
           0.13702949849218424,
           -0.024500979945130792,
           -0.008506353372622606,
           -0.07332049476742976,
           0.4924456838029978,
           1,
           -0.06208181640917011,
           -0.07332049476742976,
           -0.00016013195607655106
          ],
          [
           -0.01035821504954951,
           -0.012734871520841502,
           0.12444475406872597,
           -0.015020292421747404,
           -0.18137987259441546,
           0.24195423878639213,
           -0.6613340685204688,
           0.052785545294685356,
           0.1416681929131451,
           0.08054503874211297,
           -0.036266272181237444,
           -0.6179021505006982,
           -0.039278617860856554,
           -0.3569271653076547,
           -0.06208181640917011,
           1,
           -0.039278617860856554,
           -0.1264859679739862
          ],
          [
           -0.1543764436717924,
           -0.008379907180456857,
           0.04830391575362586,
           0.0029223659299492484,
           -0.028627821374912113,
           0.03585846336178756,
           0.1710367302643512,
           -0.03179292726482332,
           -0.039896070555451316,
           0.05750023155125885,
           -0.17904565629254798,
           -0.012651818649307811,
           1,
           -0.22468620611869383,
           -0.07332049476742976,
           -0.039278617860856554,
           1,
           0.061273657741243485
          ],
          [
           0.04407486092959585,
           0.012164035287196173,
           -0.02735347611623772,
           0.003367872637809995,
           0.040009148009623324,
           -0.01934286981565055,
           0.12213362313792892,
           -0.023469059090821514,
           -0.04175916198297512,
           -0.014547505752310012,
           -0.015416288058851185,
           0.10403250708557965,
           0.061273657741243485,
           0.04080467102991391,
           -0.00016013195607655106,
           -0.1264859679739862,
           0.061273657741243485,
           1
          ]
         ]
        }
       ],
       "layout": {
        "coloraxis": {
         "cmid": 0,
         "colorscale": [
          [
           0,
           "rgb(5,48,97)"
          ],
          [
           0.1,
           "rgb(33,102,172)"
          ],
          [
           0.2,
           "rgb(67,147,195)"
          ],
          [
           0.3,
           "rgb(146,197,222)"
          ],
          [
           0.4,
           "rgb(209,229,240)"
          ],
          [
           0.5,
           "rgb(247,247,247)"
          ],
          [
           0.6,
           "rgb(253,219,199)"
          ],
          [
           0.7,
           "rgb(244,165,130)"
          ],
          [
           0.8,
           "rgb(214,96,77)"
          ],
          [
           0.9,
           "rgb(178,24,43)"
          ],
          [
           1,
           "rgb(103,0,31)"
          ]
         ]
        },
        "margin": {
         "t": 60
        },
        "template": {
         "data": {
          "bar": [
           {
            "error_x": {
             "color": "#2a3f5f"
            },
            "error_y": {
             "color": "#2a3f5f"
            },
            "marker": {
             "line": {
              "color": "#E5ECF6",
              "width": 0.5
             },
             "pattern": {
              "fillmode": "overlay",
              "size": 10,
              "solidity": 0.2
             }
            },
            "type": "bar"
           }
          ],
          "barpolar": [
           {
            "marker": {
             "line": {
              "color": "#E5ECF6",
              "width": 0.5
             },
             "pattern": {
              "fillmode": "overlay",
              "size": 10,
              "solidity": 0.2
             }
            },
            "type": "barpolar"
           }
          ],
          "carpet": [
           {
            "aaxis": {
             "endlinecolor": "#2a3f5f",
             "gridcolor": "white",
             "linecolor": "white",
             "minorgridcolor": "white",
             "startlinecolor": "#2a3f5f"
            },
            "baxis": {
             "endlinecolor": "#2a3f5f",
             "gridcolor": "white",
             "linecolor": "white",
             "minorgridcolor": "white",
             "startlinecolor": "#2a3f5f"
            },
            "type": "carpet"
           }
          ],
          "choropleth": [
           {
            "colorbar": {
             "outlinewidth": 0,
             "ticks": ""
            },
            "type": "choropleth"
           }
          ],
          "contour": [
           {
            "colorbar": {
             "outlinewidth": 0,
             "ticks": ""
            },
            "colorscale": [
             [
              0,
              "#0d0887"
             ],
             [
              0.1111111111111111,
              "#46039f"
             ],
             [
              0.2222222222222222,
              "#7201a8"
             ],
             [
              0.3333333333333333,
              "#9c179e"
             ],
             [
              0.4444444444444444,
              "#bd3786"
             ],
             [
              0.5555555555555556,
              "#d8576b"
             ],
             [
              0.6666666666666666,
              "#ed7953"
             ],
             [
              0.7777777777777778,
              "#fb9f3a"
             ],
             [
              0.8888888888888888,
              "#fdca26"
             ],
             [
              1,
              "#f0f921"
             ]
            ],
            "type": "contour"
           }
          ],
          "contourcarpet": [
           {
            "colorbar": {
             "outlinewidth": 0,
             "ticks": ""
            },
            "type": "contourcarpet"
           }
          ],
          "heatmap": [
           {
            "colorbar": {
             "outlinewidth": 0,
             "ticks": ""
            },
            "colorscale": [
             [
              0,
              "#0d0887"
             ],
             [
              0.1111111111111111,
              "#46039f"
             ],
             [
              0.2222222222222222,
              "#7201a8"
             ],
             [
              0.3333333333333333,
              "#9c179e"
             ],
             [
              0.4444444444444444,
              "#bd3786"
             ],
             [
              0.5555555555555556,
              "#d8576b"
             ],
             [
              0.6666666666666666,
              "#ed7953"
             ],
             [
              0.7777777777777778,
              "#fb9f3a"
             ],
             [
              0.8888888888888888,
              "#fdca26"
             ],
             [
              1,
              "#f0f921"
             ]
            ],
            "type": "heatmap"
           }
          ],
          "heatmapgl": [
           {
            "colorbar": {
             "outlinewidth": 0,
             "ticks": ""
            },
            "colorscale": [
             [
              0,
              "#0d0887"
             ],
             [
              0.1111111111111111,
              "#46039f"
             ],
             [
              0.2222222222222222,
              "#7201a8"
             ],
             [
              0.3333333333333333,
              "#9c179e"
             ],
             [
              0.4444444444444444,
              "#bd3786"
             ],
             [
              0.5555555555555556,
              "#d8576b"
             ],
             [
              0.6666666666666666,
              "#ed7953"
             ],
             [
              0.7777777777777778,
              "#fb9f3a"
             ],
             [
              0.8888888888888888,
              "#fdca26"
             ],
             [
              1,
              "#f0f921"
             ]
            ],
            "type": "heatmapgl"
           }
          ],
          "histogram": [
           {
            "marker": {
             "pattern": {
              "fillmode": "overlay",
              "size": 10,
              "solidity": 0.2
             }
            },
            "type": "histogram"
           }
          ],
          "histogram2d": [
           {
            "colorbar": {
             "outlinewidth": 0,
             "ticks": ""
            },
            "colorscale": [
             [
              0,
              "#0d0887"
             ],
             [
              0.1111111111111111,
              "#46039f"
             ],
             [
              0.2222222222222222,
              "#7201a8"
             ],
             [
              0.3333333333333333,
              "#9c179e"
             ],
             [
              0.4444444444444444,
              "#bd3786"
             ],
             [
              0.5555555555555556,
              "#d8576b"
             ],
             [
              0.6666666666666666,
              "#ed7953"
             ],
             [
              0.7777777777777778,
              "#fb9f3a"
             ],
             [
              0.8888888888888888,
              "#fdca26"
             ],
             [
              1,
              "#f0f921"
             ]
            ],
            "type": "histogram2d"
           }
          ],
          "histogram2dcontour": [
           {
            "colorbar": {
             "outlinewidth": 0,
             "ticks": ""
            },
            "colorscale": [
             [
              0,
              "#0d0887"
             ],
             [
              0.1111111111111111,
              "#46039f"
             ],
             [
              0.2222222222222222,
              "#7201a8"
             ],
             [
              0.3333333333333333,
              "#9c179e"
             ],
             [
              0.4444444444444444,
              "#bd3786"
             ],
             [
              0.5555555555555556,
              "#d8576b"
             ],
             [
              0.6666666666666666,
              "#ed7953"
             ],
             [
              0.7777777777777778,
              "#fb9f3a"
             ],
             [
              0.8888888888888888,
              "#fdca26"
             ],
             [
              1,
              "#f0f921"
             ]
            ],
            "type": "histogram2dcontour"
           }
          ],
          "mesh3d": [
           {
            "colorbar": {
             "outlinewidth": 0,
             "ticks": ""
            },
            "type": "mesh3d"
           }
          ],
          "parcoords": [
           {
            "line": {
             "colorbar": {
              "outlinewidth": 0,
              "ticks": ""
             }
            },
            "type": "parcoords"
           }
          ],
          "pie": [
           {
            "automargin": true,
            "type": "pie"
           }
          ],
          "scatter": [
           {
            "fillpattern": {
             "fillmode": "overlay",
             "size": 10,
             "solidity": 0.2
            },
            "type": "scatter"
           }
          ],
          "scatter3d": [
           {
            "line": {
             "colorbar": {
              "outlinewidth": 0,
              "ticks": ""
             }
            },
            "marker": {
             "colorbar": {
              "outlinewidth": 0,
              "ticks": ""
             }
            },
            "type": "scatter3d"
           }
          ],
          "scattercarpet": [
           {
            "marker": {
             "colorbar": {
              "outlinewidth": 0,
              "ticks": ""
             }
            },
            "type": "scattercarpet"
           }
          ],
          "scattergeo": [
           {
            "marker": {
             "colorbar": {
              "outlinewidth": 0,
              "ticks": ""
             }
            },
            "type": "scattergeo"
           }
          ],
          "scattergl": [
           {
            "marker": {
             "colorbar": {
              "outlinewidth": 0,
              "ticks": ""
             }
            },
            "type": "scattergl"
           }
          ],
          "scattermapbox": [
           {
            "marker": {
             "colorbar": {
              "outlinewidth": 0,
              "ticks": ""
             }
            },
            "type": "scattermapbox"
           }
          ],
          "scatterpolar": [
           {
            "marker": {
             "colorbar": {
              "outlinewidth": 0,
              "ticks": ""
             }
            },
            "type": "scatterpolar"
           }
          ],
          "scatterpolargl": [
           {
            "marker": {
             "colorbar": {
              "outlinewidth": 0,
              "ticks": ""
             }
            },
            "type": "scatterpolargl"
           }
          ],
          "scatterternary": [
           {
            "marker": {
             "colorbar": {
              "outlinewidth": 0,
              "ticks": ""
             }
            },
            "type": "scatterternary"
           }
          ],
          "surface": [
           {
            "colorbar": {
             "outlinewidth": 0,
             "ticks": ""
            },
            "colorscale": [
             [
              0,
              "#0d0887"
             ],
             [
              0.1111111111111111,
              "#46039f"
             ],
             [
              0.2222222222222222,
              "#7201a8"
             ],
             [
              0.3333333333333333,
              "#9c179e"
             ],
             [
              0.4444444444444444,
              "#bd3786"
             ],
             [
              0.5555555555555556,
              "#d8576b"
             ],
             [
              0.6666666666666666,
              "#ed7953"
             ],
             [
              0.7777777777777778,
              "#fb9f3a"
             ],
             [
              0.8888888888888888,
              "#fdca26"
             ],
             [
              1,
              "#f0f921"
             ]
            ],
            "type": "surface"
           }
          ],
          "table": [
           {
            "cells": {
             "fill": {
              "color": "#EBF0F8"
             },
             "line": {
              "color": "white"
             }
            },
            "header": {
             "fill": {
              "color": "#C8D4E3"
             },
             "line": {
              "color": "white"
             }
            },
            "type": "table"
           }
          ]
         },
         "layout": {
          "annotationdefaults": {
           "arrowcolor": "#2a3f5f",
           "arrowhead": 0,
           "arrowwidth": 1
          },
          "autotypenumbers": "strict",
          "coloraxis": {
           "colorbar": {
            "outlinewidth": 0,
            "ticks": ""
           }
          },
          "colorscale": {
           "diverging": [
            [
             0,
             "#8e0152"
            ],
            [
             0.1,
             "#c51b7d"
            ],
            [
             0.2,
             "#de77ae"
            ],
            [
             0.3,
             "#f1b6da"
            ],
            [
             0.4,
             "#fde0ef"
            ],
            [
             0.5,
             "#f7f7f7"
            ],
            [
             0.6,
             "#e6f5d0"
            ],
            [
             0.7,
             "#b8e186"
            ],
            [
             0.8,
             "#7fbc41"
            ],
            [
             0.9,
             "#4d9221"
            ],
            [
             1,
             "#276419"
            ]
           ],
           "sequential": [
            [
             0,
             "#0d0887"
            ],
            [
             0.1111111111111111,
             "#46039f"
            ],
            [
             0.2222222222222222,
             "#7201a8"
            ],
            [
             0.3333333333333333,
             "#9c179e"
            ],
            [
             0.4444444444444444,
             "#bd3786"
            ],
            [
             0.5555555555555556,
             "#d8576b"
            ],
            [
             0.6666666666666666,
             "#ed7953"
            ],
            [
             0.7777777777777778,
             "#fb9f3a"
            ],
            [
             0.8888888888888888,
             "#fdca26"
            ],
            [
             1,
             "#f0f921"
            ]
           ],
           "sequentialminus": [
            [
             0,
             "#0d0887"
            ],
            [
             0.1111111111111111,
             "#46039f"
            ],
            [
             0.2222222222222222,
             "#7201a8"
            ],
            [
             0.3333333333333333,
             "#9c179e"
            ],
            [
             0.4444444444444444,
             "#bd3786"
            ],
            [
             0.5555555555555556,
             "#d8576b"
            ],
            [
             0.6666666666666666,
             "#ed7953"
            ],
            [
             0.7777777777777778,
             "#fb9f3a"
            ],
            [
             0.8888888888888888,
             "#fdca26"
            ],
            [
             1,
             "#f0f921"
            ]
           ]
          },
          "colorway": [
           "#636efa",
           "#EF553B",
           "#00cc96",
           "#ab63fa",
           "#FFA15A",
           "#19d3f3",
           "#FF6692",
           "#B6E880",
           "#FF97FF",
           "#FECB52"
          ],
          "font": {
           "color": "#2a3f5f"
          },
          "geo": {
           "bgcolor": "white",
           "lakecolor": "white",
           "landcolor": "#E5ECF6",
           "showlakes": true,
           "showland": true,
           "subunitcolor": "white"
          },
          "hoverlabel": {
           "align": "left"
          },
          "hovermode": "closest",
          "mapbox": {
           "style": "light"
          },
          "paper_bgcolor": "white",
          "plot_bgcolor": "#E5ECF6",
          "polar": {
           "angularaxis": {
            "gridcolor": "white",
            "linecolor": "white",
            "ticks": ""
           },
           "bgcolor": "#E5ECF6",
           "radialaxis": {
            "gridcolor": "white",
            "linecolor": "white",
            "ticks": ""
           }
          },
          "scene": {
           "xaxis": {
            "backgroundcolor": "#E5ECF6",
            "gridcolor": "white",
            "gridwidth": 2,
            "linecolor": "white",
            "showbackground": true,
            "ticks": "",
            "zerolinecolor": "white"
           },
           "yaxis": {
            "backgroundcolor": "#E5ECF6",
            "gridcolor": "white",
            "gridwidth": 2,
            "linecolor": "white",
            "showbackground": true,
            "ticks": "",
            "zerolinecolor": "white"
           },
           "zaxis": {
            "backgroundcolor": "#E5ECF6",
            "gridcolor": "white",
            "gridwidth": 2,
            "linecolor": "white",
            "showbackground": true,
            "ticks": "",
            "zerolinecolor": "white"
           }
          },
          "shapedefaults": {
           "line": {
            "color": "#2a3f5f"
           }
          },
          "ternary": {
           "aaxis": {
            "gridcolor": "white",
            "linecolor": "white",
            "ticks": ""
           },
           "baxis": {
            "gridcolor": "white",
            "linecolor": "white",
            "ticks": ""
           },
           "bgcolor": "#E5ECF6",
           "caxis": {
            "gridcolor": "white",
            "linecolor": "white",
            "ticks": ""
           }
          },
          "title": {
           "x": 0.05
          },
          "xaxis": {
           "automargin": true,
           "gridcolor": "white",
           "linecolor": "white",
           "ticks": "",
           "title": {
            "standoff": 15
           },
           "zerolinecolor": "white",
           "zerolinewidth": 2
          },
          "yaxis": {
           "automargin": true,
           "gridcolor": "white",
           "linecolor": "white",
           "ticks": "",
           "title": {
            "standoff": 15
           },
           "zerolinecolor": "white",
           "zerolinewidth": 2
          }
         }
        },
        "xaxis": {
         "anchor": "y",
         "domain": [
          0,
          1
         ]
        },
        "yaxis": {
         "anchor": "x",
         "autorange": "reversed",
         "domain": [
          0,
          1
         ]
        }
       }
      }
     },
     "metadata": {},
     "output_type": "display_data"
    }
   ],
   "source": [
    "# Heatmap of the correlation values\n",
    "import plotly.express as px\n",
    "\n",
    "fig = px.imshow(corr, text_auto='.3f', color_continuous_scale='RdBu_r', color_continuous_midpoint=0, aspect='auto')\n",
    "fig.show()"
   ]
  },
  {
   "cell_type": "code",
   "execution_count": null,
   "metadata": {},
   "outputs": [],
   "source": [
    "'''\n",
    "Insights\n",
    "1. 'current_loan_installment' and 'requested_loan_installment' have perfect correlation value of 1 due to having same values in both columns as proven before.\n",
    "2. 'marketing_category_2' is positively correlated with 'monthly_income' (0.675), \n",
    "    positively correlated with 'gender' (0.495) and \n",
    "    negatively correlated with interest_rate (-0.618). \n",
    "    This may indicates that 'marketing_category_2' is for a specific gender customer that has high income and the loan being offered in low interest rate.\n",
    "3. 'marketing_category_2', 'monthly_income', 'interest_rate' and 'gender' have the highest correlation values vs 'loan_approval_status' as compared to others. \n",
    "    These variables may be potentially important features in training the model.\n",
    "'''"
   ]
  },
  {
   "cell_type": "markdown",
   "metadata": {},
   "source": [
    "##### Other than correlations, let's calculate the Mutual Information.\n",
    "##### We can know how much a variable depends on the other, enabling us to gauge the predictive power of the variables vs the target.\n",
    "\n",
    "##### The higher the value, the more mutually dependent the variable pairs are."
   ]
  },
  {
   "cell_type": "code",
   "execution_count": 25,
   "metadata": {},
   "outputs": [
    {
     "name": "stderr",
     "output_type": "stream",
     "text": [
      "c:\\Users\\Leong Pit Khien\\AppData\\Local\\Programs\\Python\\Python39\\lib\\site-packages\\sklearn\\utils\\validation.py:1143: DataConversionWarning:\n",
      "\n",
      "A column-vector y was passed when a 1d array was expected. Please change the shape of y to (n_samples, ), for example using ravel().\n",
      "\n"
     ]
    }
   ],
   "source": [
    "from sklearn.feature_selection import mutual_info_classif\n",
    "\n",
    "# Calculate Mutual Information for each feature versus the target variable\n",
    "mi = mutual_info_classif(df_train_x_filled, df_train_y, random_state=2308)"
   ]
  },
  {
   "cell_type": "code",
   "execution_count": 26,
   "metadata": {},
   "outputs": [
    {
     "data": {
      "text/html": [
       "<div>\n",
       "<style scoped>\n",
       "    .dataframe tbody tr th:only-of-type {\n",
       "        vertical-align: middle;\n",
       "    }\n",
       "\n",
       "    .dataframe tbody tr th {\n",
       "        vertical-align: top;\n",
       "    }\n",
       "\n",
       "    .dataframe thead th {\n",
       "        text-align: right;\n",
       "    }\n",
       "</style>\n",
       "<table border=\"1\" class=\"dataframe\">\n",
       "  <thead>\n",
       "    <tr style=\"text-align: right;\">\n",
       "      <th></th>\n",
       "      <th>mutual_info</th>\n",
       "    </tr>\n",
       "  </thead>\n",
       "  <tbody>\n",
       "    <tr>\n",
       "      <th>interest_rate</th>\n",
       "      <td>0.015053</td>\n",
       "    </tr>\n",
       "    <tr>\n",
       "      <th>gender</th>\n",
       "      <td>0.010402</td>\n",
       "    </tr>\n",
       "    <tr>\n",
       "      <th>monthly_income</th>\n",
       "      <td>0.009865</td>\n",
       "    </tr>\n",
       "    <tr>\n",
       "      <th>marketing_category2</th>\n",
       "      <td>0.008799</td>\n",
       "    </tr>\n",
       "    <tr>\n",
       "      <th>loan_repayment</th>\n",
       "      <td>0.006854</td>\n",
       "    </tr>\n",
       "    <tr>\n",
       "      <th>requested_loan_amount</th>\n",
       "      <td>0.004473</td>\n",
       "    </tr>\n",
       "    <tr>\n",
       "      <th>marketing_source</th>\n",
       "      <td>0.004459</td>\n",
       "    </tr>\n",
       "    <tr>\n",
       "      <th>marketing_category1</th>\n",
       "      <td>0.004118</td>\n",
       "    </tr>\n",
       "    <tr>\n",
       "      <th>bank_code</th>\n",
       "      <td>0.003853</td>\n",
       "    </tr>\n",
       "    <tr>\n",
       "      <th>bank_acc_type</th>\n",
       "      <td>0.003302</td>\n",
       "    </tr>\n",
       "    <tr>\n",
       "      <th>current_loan_installment</th>\n",
       "      <td>0.002922</td>\n",
       "    </tr>\n",
       "    <tr>\n",
       "      <th>requested_loan_installment</th>\n",
       "      <td>0.002732</td>\n",
       "    </tr>\n",
       "    <tr>\n",
       "      <th>employer_category1</th>\n",
       "      <td>0.001863</td>\n",
       "    </tr>\n",
       "    <tr>\n",
       "      <th>city_code</th>\n",
       "      <td>0.001857</td>\n",
       "    </tr>\n",
       "    <tr>\n",
       "      <th>employer_code</th>\n",
       "      <td>0.001399</td>\n",
       "    </tr>\n",
       "    <tr>\n",
       "      <th>area_code</th>\n",
       "      <td>0.000707</td>\n",
       "    </tr>\n",
       "    <tr>\n",
       "      <th>employer_category2</th>\n",
       "      <td>0.000697</td>\n",
       "    </tr>\n",
       "  </tbody>\n",
       "</table>\n",
       "</div>"
      ],
      "text/plain": [
       "                            mutual_info\n",
       "interest_rate                  0.015053\n",
       "gender                         0.010402\n",
       "monthly_income                 0.009865\n",
       "marketing_category2            0.008799\n",
       "loan_repayment                 0.006854\n",
       "requested_loan_amount          0.004473\n",
       "marketing_source               0.004459\n",
       "marketing_category1            0.004118\n",
       "bank_code                      0.003853\n",
       "bank_acc_type                  0.003302\n",
       "current_loan_installment       0.002922\n",
       "requested_loan_installment     0.002732\n",
       "employer_category1             0.001863\n",
       "city_code                      0.001857\n",
       "employer_code                  0.001399\n",
       "area_code                      0.000707\n",
       "employer_category2             0.000697"
      ]
     },
     "execution_count": 26,
     "metadata": {},
     "output_type": "execute_result"
    }
   ],
   "source": [
    "res = {}\n",
    "for i, j in zip(df_train_x_filled.columns, mi):\n",
    "    res[i] = j\n",
    "    \n",
    "df_res = pd.DataFrame.from_dict(res, columns=['mutual_info'], orient='index')\n",
    "\n",
    "df_res.sort_values(by='mutual_info', ascending=False)"
   ]
  },
  {
   "cell_type": "code",
   "execution_count": null,
   "metadata": {},
   "outputs": [],
   "source": [
    "'''\n",
    "The top 4 variables found in Correlation are also the top in Mutual Information. \n",
    "'''"
   ]
  }
 ],
 "metadata": {
  "kernelspec": {
   "display_name": "Python 3",
   "language": "python",
   "name": "python3"
  },
  "language_info": {
   "codemirror_mode": {
    "name": "ipython",
    "version": 3
   },
   "file_extension": ".py",
   "mimetype": "text/x-python",
   "name": "python",
   "nbconvert_exporter": "python",
   "pygments_lexer": "ipython3",
   "version": "3.9.5"
  }
 },
 "nbformat": 4,
 "nbformat_minor": 2
}
